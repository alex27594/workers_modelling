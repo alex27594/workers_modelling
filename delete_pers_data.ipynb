{
 "cells": [
  {
   "cell_type": "markdown",
   "metadata": {},
   "source": [
    "### Создаем внешний файл"
   ]
  },
  {
   "cell_type": "code",
   "execution_count": 1,
   "metadata": {
    "collapsed": true
   },
   "outputs": [],
   "source": [
    "import pandas as pd"
   ]
  },
  {
   "cell_type": "code",
   "execution_count": 2,
   "metadata": {
    "collapsed": true
   },
   "outputs": [],
   "source": [
    "path_to_file = 'candidates.xlsx'"
   ]
  },
  {
   "cell_type": "code",
   "execution_count": 3,
   "metadata": {
    "collapsed": true
   },
   "outputs": [],
   "source": [
    "xls = pd.ExcelFile(path_to_file)\n",
    "df = xls.parse('Sheet1')"
   ]
  },
  {
   "cell_type": "code",
   "execution_count": 6,
   "metadata": {
    "collapsed": true
   },
   "outputs": [],
   "source": [
    "df = df['Candidate Name']\n",
    "df.to_csv('all_candidates.txt',sep='\\t',index=False)"
   ]
  },
  {
   "cell_type": "code",
   "execution_count": null,
   "metadata": {
    "collapsed": true
   },
   "outputs": [],
   "source": []
  },
  {
   "cell_type": "code",
   "execution_count": null,
   "metadata": {
    "collapsed": true
   },
   "outputs": [],
   "source": []
  },
  {
   "cell_type": "code",
   "execution_count": 7,
   "metadata": {
    "collapsed": true,
    "hideCode": false,
    "hidePrompt": false
   },
   "outputs": [],
   "source": [
    "import pickle\n",
    "import re"
   ]
  },
  {
   "cell_type": "code",
   "execution_count": 8,
   "metadata": {
    "collapsed": true,
    "hideCode": false,
    "hidePrompt": false
   },
   "outputs": [],
   "source": [
    "def make_phone_regex():\n",
    "    return re.compile('[+]?[\\d{1}]?([)]?\\d{3}[)]?[-\\.\\s]{0,3}\\d{3}[-\\.\\s]{0,3}\\d{4}|\\(\\d{3}\\)\\s*\\d{3}[-\\.\\s]{0,3}\\d{4}|\\d{3}[-\\.\\s]{0,3}\\d{4}|([-\\.\\s]{0,3}[(]?\\d{3}[)]?[-\\.\\s]{0,3}\\d{3}[-\\.\\s]{0,3}\\d{2}[-\\.\\s]{0,3}\\d{2}))')\n",
    "\n",
    "def make_email_regex():\n",
    "    return re.compile(r'([a-zA-Z0-9_.+-]+@[a-zA-Z0-9-]+\\.[a-zA-Z0-9-.]+)')\n",
    "\n",
    "def make_weburl_regex():\n",
    "    return re.compile('http[s]?://(?:[a-zA-Z]|[0-9]|[$-_@.&+]|[!*\\(\\),]|(?:%[0-9a-fA-F][0-9a-fA-F]))+')\n",
    "\n",
    "def make_date_regex():\n",
    "    return re.compile(\"([0-9]{2}[\\/,:.\\s][0-9]{2}[\\/,:.\\s][0-9]{2,4})|[0-9]{2}[\\/,:.\\s][0-9]{2,4}\")\n"
   ]
  },
  {
   "cell_type": "code",
   "execution_count": 9,
   "metadata": {
    "collapsed": true,
    "hideCode": false,
    "hidePrompt": false
   },
   "outputs": [],
   "source": [
    "names_base_path = \"all_candidates.txt\""
   ]
  },
  {
   "cell_type": "code",
   "execution_count": 10,
   "metadata": {
    "collapsed": false,
    "hideCode": false,
    "hidePrompt": false
   },
   "outputs": [],
   "source": [
    "date_regex = make_date_regex()\n",
    "email_regex = make_email_regex()\n",
    "weburl_regex = make_weburl_regex()\n",
    "phone_regex = make_phone_regex()\n",
    "word_match_regex = r'\\b\\w+\\b'\n",
    "\n",
    "with open(names_base_path) as f:\n",
    "        names = \" \".join(f.readlines()).lower()\n",
    "        names_tokens = re.findall(word_match_regex, names)\n",
    "\n",
    "def remove_personal_data(text):\n",
    "    text = re.sub(date_regex, \" \", text)\n",
    "    text = re.sub(email_regex, \" \", text)\n",
    "    text = re.sub(weburl_regex, \" \", text)\n",
    "    text = re.sub(phone_regex, \" \", text)\n",
    "\n",
    "\n",
    "    text = text.lower()\n",
    "\n",
    "    \n",
    "    cv_tokens_lst = re.findall(word_match_regex, text)\n",
    "\n",
    "    return \" \".join([token for token in cv_tokens_lst if token not in names_tokens])"
   ]
  },
  {
   "cell_type": "code",
   "execution_count": 11,
   "metadata": {
    "collapsed": true
   },
   "outputs": [],
   "source": [
    "test0 = '''i am alexander саранов 89654497364 saranov92@gmail.com bla bla bla'''"
   ]
  },
  {
   "cell_type": "code",
   "execution_count": 12,
   "metadata": {
    "collapsed": false
   },
   "outputs": [
    {
     "data": {
      "text/plain": [
       "'am bla bla bla'"
      ]
     },
     "execution_count": 12,
     "metadata": {},
     "output_type": "execute_result"
    }
   ],
   "source": [
    "remove_personal_data(test0)"
   ]
  },
  {
   "cell_type": "code",
   "execution_count": null,
   "metadata": {
    "collapsed": true
   },
   "outputs": [],
   "source": []
  }
 ],
 "metadata": {
  "hide_code_all_hidden": false,
  "kernelspec": {
   "display_name": "Python 3",
   "language": "python",
   "name": "python3"
  },
  "language_info": {
   "codemirror_mode": {
    "name": "ipython",
    "version": 3
   },
   "file_extension": ".py",
   "mimetype": "text/x-python",
   "name": "python",
   "nbconvert_exporter": "python",
   "pygments_lexer": "ipython3",
   "version": "3.6.3"
  }
 },
 "nbformat": 4,
 "nbformat_minor": 2
}
