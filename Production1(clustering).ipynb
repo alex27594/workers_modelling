{
 "cells": [
  {
   "cell_type": "code",
   "execution_count": 1,
   "metadata": {
    "collapsed": true
   },
   "outputs": [],
   "source": [
    "import pandas\n",
    "import pickle\n",
    "import random\n",
    "import numpy as np\n",
    "import math\n",
    "\n",
    "from custom_classifiers import ClusteringClassifier\n",
    "from functools import reduce\n",
    "from sklearn.pipeline import Pipeline\n",
    "from sklearn.decomposition import PCA\n",
    "from sklearn.model_selection import GridSearchCV\n",
    "from collections import Counter\n",
    "from sklearn.preprocessing import MinMaxScaler"
   ]
  },
  {
   "cell_type": "code",
   "execution_count": 2,
   "metadata": {
    "collapsed": true
   },
   "outputs": [],
   "source": [
    "def data_unpickle(path):\n",
    "    with open(path, \"rb\") as reader:\n",
    "        feature_data = pickle.load(reader)\n",
    "    return feature_data\n",
    "\n",
    "def data_pickle(path, data):\n",
    "    with open(path, \"wb\") as writer:\n",
    "        pickle.dump(data, writer)\n",
    "\n",
    "class Maker_XY():\n",
    "    def __init__(self):\n",
    "        self.scaler = None\n",
    "    \n",
    "    def __call__(self, working_df, feature_lists):\n",
    "        Y = working_df[\"BUNumber\"].tolist()\n",
    "        jiras = working_df[\"JiraID\"].tolist()\n",
    "        X = [feature_lists[str(jira)] for jira in jiras]\n",
    "        if self.scaler is None:\n",
    "            self.scaler = MinMaxScaler()\n",
    "            X = self.scaler.fit_transform(X)\n",
    "        else:\n",
    "            self.scaler.partial_fit(X)\n",
    "            self.scaler.transform(X)\n",
    "        return np.array(X), np.array(Y), np.array(jiras)\n",
    "\n",
    "def add_role(X, working_df):\n",
    "    roles = working_df[\"Role\"].tolist()\n",
    "    unique_roles = list(set(roles))\n",
    "    num_roles = np.array([unique_roles.index(role) for role in roles])\n",
    "    return np.concatenate((X, num_roles.reshape(-1, 1)), axis=1)\n",
    "\n",
    "def test_classification(X_test, Y_test, clf, threshold):\n",
    "    right_guess = 0\n",
    "    res_str = \"\"\n",
    "    for i in range(X_test.shape[0]):\n",
    "        prediction = clf.predict_proba(X_test[i, :].reshape(1, -1))[0]\n",
    "        pred_class = sorted(zip(clf.classes_, prediction), key=lambda item: item[1], reverse=True)\n",
    "        if Y_test[i] in [item[0] for item in pred_class[:threshold]]:\n",
    "            right_guess += 1\n",
    "        res_str += \"Pred_class:{}\\nReal class:{}\\n\".format(pred_class[:threshold], Y_test[i])\n",
    "    print(\"Right guess {} from {}\".format(right_guess, X_test.shape[0]))\n",
    "    print(\"Accuracy:{}\".format(right_guess/X_test.shape[0]))\n",
    "    \n",
    "class cut_log_loss_scorer:\n",
    "    def __call__(self, estimator, X, y):\n",
    "        loss = 0\n",
    "        predictions = estimator.predict_proba(X)\n",
    "        pred_class = dict(zip(estimator.classes_, range(predictions.shape[1])))\n",
    "        for i in range(X.shape[0]):\n",
    "            if y[i] in pred_class:\n",
    "                p = predictions[i, pred_class[y[i]]]\n",
    "            else:\n",
    "                p = 0\n",
    "            loss = math.log(p + 0.0001)\n",
    "        return loss/X.shape[0]\n",
    "    \n",
    "def get_split_indices(arr, n_splits):\n",
    "    split_indices = [[] for j in range(n_splits)]\n",
    "    for i in range(arr.shape[0]):\n",
    "        r = random.randint(0, n_splits - 1)\n",
    "        split_indices[r].append(i)\n",
    "    return split_indices\n",
    "    \n",
    "    \n",
    "class WeightedRoleMetric:\n",
    "    def __init__(self, w, length):\n",
    "        self.w = w\n",
    "        self.null = np.array([0 for i in range(length)])\n",
    "    \n",
    "    def __call__(self, a, b):\n",
    "        c = a[:-1] - b[:-1]\n",
    "        if not np.array_equal(a[-1], b[-1]):\n",
    "            c *= self.w\n",
    "        return minkowski(c, self.null, 2)\n",
    "    \n",
    "    \n",
    "class BaseLineClassifier:\n",
    "    def fit(self, Y_train):\n",
    "        classes_probs = sorted([(item[0], item[1]/Y_train.shape[0]) for item in Counter(Y_train).items()], \n",
    "                                 key = lambda item: item[1], reverse=True)\n",
    "        self.classes_ = [item[0] for item in classes_probs]\n",
    "        self.probs = [[item[1] for item in classes_probs]]\n",
    "        return self\n",
    "    \n",
    "    def predict_proba(self, x):\n",
    "        return self.probs\n",
    "    \n",
    "# checked    \n",
    "def prepare_matrix(probs, jiras, classes):\n",
    "    res_jiras = reduce(lambda x, y: x + y, [j.tolist() for j in jiras])\n",
    "    res_classes = sorted(list(set(reduce(lambda x, y: x + y, [c.tolist() for c in classes]))))\n",
    "    res = []\n",
    "    for i in range(len(probs)):\n",
    "        for j in range(probs[i].shape[0]):\n",
    "            loc_res = []\n",
    "            for k in range(len(res_classes)):\n",
    "                if res_classes[k] in classes[i].tolist():\n",
    "                    loc_res.append(probs[i][j, classes[i].tolist().index(res_classes[k])])\n",
    "                else:\n",
    "                    loc_res.append(-1)\n",
    "            res.append(loc_res)\n",
    "    return res_jiras, res_classes, np.array(res)"
   ]
  },
  {
   "cell_type": "code",
   "execution_count": 3,
   "metadata": {},
   "outputs": [
    {
     "data": {
      "text/plain": [
       "(307682, 10)"
      ]
     },
     "execution_count": 3,
     "metadata": {},
     "output_type": "execute_result"
    }
   ],
   "source": [
    "df = pandas.read_csv(\"data/full_JiraID_BUNumber.csv\")\n",
    "df.shape"
   ]
  },
  {
   "cell_type": "code",
   "execution_count": 4,
   "metadata": {
    "collapsed": true
   },
   "outputs": [],
   "source": [
    "CUR_ROLE = \"Developer\"\n",
    "SPLIT_NUM = 10\n",
    "N_COMPONENTS = 500\n",
    "TOP = 5"
   ]
  },
  {
   "cell_type": "code",
   "execution_count": 5,
   "metadata": {
    "collapsed": true
   },
   "outputs": [],
   "source": [
    "developer_feature_lists = data_unpickle(\"data/res8/developers_feature_lists.pickle\")"
   ]
  },
  {
   "cell_type": "code",
   "execution_count": 6,
   "metadata": {},
   "outputs": [
    {
     "data": {
      "text/plain": [
       "(72171, 10)"
      ]
     },
     "execution_count": 6,
     "metadata": {},
     "output_type": "execute_result"
    }
   ],
   "source": [
    "df = df[df[\"JiraID\"].isin(developer_feature_lists.keys())]\n",
    "df.shape"
   ]
  },
  {
   "cell_type": "code",
   "execution_count": 7,
   "metadata": {},
   "outputs": [
    {
     "name": "stdout",
     "output_type": "stream",
     "text": [
      "725\n"
     ]
    }
   ],
   "source": [
    "count_unique_bu = len(df[\"BUNumber\"].unique())\n",
    "print(count_unique_bu)"
   ]
  },
  {
   "cell_type": "code",
   "execution_count": 8,
   "metadata": {
    "collapsed": true
   },
   "outputs": [],
   "source": [
    "GRID_SEARCH_PARAMETERS = {\"pca__n_components\": [100, 200],\n",
    "                          \"clustering__n_clusters\": [int(count_unique_bu*i) for i in [1, 1.5, 2]]}"
   ]
  },
  {
   "cell_type": "code",
   "execution_count": 9,
   "metadata": {},
   "outputs": [
    {
     "name": "stderr",
     "output_type": "stream",
     "text": [
      "/home/asukhochev/anaconda3/envs/dmpython/lib/python3.6/site-packages/ipykernel_launcher.py:1: UserWarning: Boolean Series key will be reindexed to match DataFrame index.\n",
      "  \"\"\"Entry point for launching an IPython kernel.\n"
     ]
    },
    {
     "data": {
      "text/plain": [
       "(2281, 3)"
      ]
     },
     "execution_count": 9,
     "metadata": {},
     "output_type": "execute_result"
    }
   ],
   "source": [
    "cur_df = df[df[\"Timeline\"] == \"2017-07-01 00:00:00\"][df[\"Role\"] == CUR_ROLE][[\"JiraID\", \"Role\", \"BUNumber\"]].drop_duplicates()\n",
    "cur_df.shape"
   ]
  },
  {
   "cell_type": "code",
   "execution_count": 10,
   "metadata": {},
   "outputs": [
    {
     "name": "stderr",
     "output_type": "stream",
     "text": [
      "/home/asukhochev/anaconda3/envs/dmpython/lib/python3.6/site-packages/ipykernel_launcher.py:1: UserWarning: Boolean Series key will be reindexed to match DataFrame index.\n",
      "  \"\"\"Entry point for launching an IPython kernel.\n"
     ]
    },
    {
     "data": {
      "text/plain": [
       "(2896, 3)"
      ]
     },
     "execution_count": 10,
     "metadata": {},
     "output_type": "execute_result"
    }
   ],
   "source": [
    "sup_df = df[df[\"Role\"] == CUR_ROLE][df[\"BUNumber\"].isin(set(cur_df[\"BUNumber\"]))][[\"JiraID\", \"Role\", \"BUNumber\"]].drop_duplicates()\n",
    "sup_df.shape"
   ]
  },
  {
   "cell_type": "code",
   "execution_count": 11,
   "metadata": {
    "collapsed": true
   },
   "outputs": [],
   "source": [
    "split_indices = get_split_indices(cur_df, SPLIT_NUM)"
   ]
  },
  {
   "cell_type": "code",
   "execution_count": 12,
   "metadata": {
    "collapsed": true
   },
   "outputs": [],
   "source": [
    "maker_XY = Maker_XY()"
   ]
  },
  {
   "cell_type": "code",
   "execution_count": 13,
   "metadata": {},
   "outputs": [
    {
     "name": "stdout",
     "output_type": "stream",
     "text": [
      "(2281, 1645)\n",
      "(2281,)\n",
      "(2281,)\n"
     ]
    }
   ],
   "source": [
    "cur_X, cur_Y, cur_jiras = maker_XY(cur_df, developer_feature_lists)\n",
    "print(cur_X.shape)\n",
    "print(cur_Y.shape)\n",
    "print(cur_jiras.shape)"
   ]
  },
  {
   "cell_type": "code",
   "execution_count": 14,
   "metadata": {},
   "outputs": [
    {
     "name": "stderr",
     "output_type": "stream",
     "text": [
      "/home/asukhochev/anaconda3/envs/dmpython/lib/python3.6/site-packages/sklearn/model_selection/_split.py:597: Warning: The least populated class in y has only 1 members, which is too few. The minimum number of members in any class cannot be less than n_splits=3.\n",
      "  % (min_groups, self.n_splits)), Warning)\n"
     ]
    },
    {
     "name": "stdout",
     "output_type": "stream",
     "text": [
      "CV parameters:  {'clustering__n_clusters': 1087, 'pca__n_components': 200}\n",
      "Classifier:\n",
      "Right guess 1 from 214\n",
      "Accuracy:0.004672897196261682\n",
      "Baseline:\n",
      "Right guess 12 from 214\n",
      "Accuracy:0.056074766355140186\n",
      "-----\n"
     ]
    },
    {
     "name": "stderr",
     "output_type": "stream",
     "text": [
      "/home/asukhochev/anaconda3/envs/dmpython/lib/python3.6/site-packages/sklearn/model_selection/_split.py:597: Warning: The least populated class in y has only 1 members, which is too few. The minimum number of members in any class cannot be less than n_splits=3.\n",
      "  % (min_groups, self.n_splits)), Warning)\n"
     ]
    },
    {
     "name": "stdout",
     "output_type": "stream",
     "text": [
      "CV parameters:  {'clustering__n_clusters': 725, 'pca__n_components': 200}\n",
      "Classifier:\n",
      "Right guess 2 from 237\n",
      "Accuracy:0.008438818565400843\n",
      "Baseline:\n",
      "Right guess 13 from 237\n",
      "Accuracy:0.05485232067510549\n",
      "-----\n"
     ]
    },
    {
     "name": "stderr",
     "output_type": "stream",
     "text": [
      "/home/asukhochev/anaconda3/envs/dmpython/lib/python3.6/site-packages/sklearn/model_selection/_split.py:597: Warning: The least populated class in y has only 1 members, which is too few. The minimum number of members in any class cannot be less than n_splits=3.\n",
      "  % (min_groups, self.n_splits)), Warning)\n"
     ]
    },
    {
     "name": "stdout",
     "output_type": "stream",
     "text": [
      "CV parameters:  {'clustering__n_clusters': 1087, 'pca__n_components': 200}\n",
      "Classifier:\n",
      "Right guess 3 from 266\n",
      "Accuracy:0.011278195488721804\n",
      "Baseline:\n",
      "Right guess 17 from 266\n",
      "Accuracy:0.06390977443609022\n",
      "-----\n"
     ]
    },
    {
     "name": "stderr",
     "output_type": "stream",
     "text": [
      "/home/asukhochev/anaconda3/envs/dmpython/lib/python3.6/site-packages/sklearn/model_selection/_split.py:597: Warning: The least populated class in y has only 1 members, which is too few. The minimum number of members in any class cannot be less than n_splits=3.\n",
      "  % (min_groups, self.n_splits)), Warning)\n"
     ]
    },
    {
     "name": "stdout",
     "output_type": "stream",
     "text": [
      "CV parameters:  {'clustering__n_clusters': 725, 'pca__n_components': 100}\n",
      "Classifier:\n",
      "Right guess 2 from 218\n",
      "Accuracy:0.009174311926605505\n",
      "Baseline:\n",
      "Right guess 14 from 218\n",
      "Accuracy:0.06422018348623854\n",
      "-----\n"
     ]
    },
    {
     "name": "stderr",
     "output_type": "stream",
     "text": [
      "/home/asukhochev/anaconda3/envs/dmpython/lib/python3.6/site-packages/sklearn/model_selection/_split.py:597: Warning: The least populated class in y has only 1 members, which is too few. The minimum number of members in any class cannot be less than n_splits=3.\n",
      "  % (min_groups, self.n_splits)), Warning)\n"
     ]
    },
    {
     "name": "stdout",
     "output_type": "stream",
     "text": [
      "CV parameters:  {'clustering__n_clusters': 725, 'pca__n_components': 200}\n",
      "Classifier:\n",
      "Right guess 1 from 215\n",
      "Accuracy:0.004651162790697674\n",
      "Baseline:\n",
      "Right guess 14 from 215\n",
      "Accuracy:0.06511627906976744\n",
      "-----\n"
     ]
    },
    {
     "name": "stderr",
     "output_type": "stream",
     "text": [
      "/home/asukhochev/anaconda3/envs/dmpython/lib/python3.6/site-packages/sklearn/model_selection/_split.py:597: Warning: The least populated class in y has only 1 members, which is too few. The minimum number of members in any class cannot be less than n_splits=3.\n",
      "  % (min_groups, self.n_splits)), Warning)\n"
     ]
    },
    {
     "name": "stdout",
     "output_type": "stream",
     "text": [
      "CV parameters:  {'clustering__n_clusters': 725, 'pca__n_components': 200}\n",
      "Classifier:\n",
      "Right guess 3 from 228\n",
      "Accuracy:0.013157894736842105\n",
      "Baseline:\n",
      "Right guess 13 from 228\n",
      "Accuracy:0.05701754385964912\n",
      "-----\n"
     ]
    },
    {
     "name": "stderr",
     "output_type": "stream",
     "text": [
      "/home/asukhochev/anaconda3/envs/dmpython/lib/python3.6/site-packages/sklearn/model_selection/_split.py:597: Warning: The least populated class in y has only 1 members, which is too few. The minimum number of members in any class cannot be less than n_splits=3.\n",
      "  % (min_groups, self.n_splits)), Warning)\n"
     ]
    },
    {
     "name": "stdout",
     "output_type": "stream",
     "text": [
      "CV parameters:  {'clustering__n_clusters': 1087, 'pca__n_components': 200}\n",
      "Classifier:\n",
      "Right guess 3 from 244\n",
      "Accuracy:0.012295081967213115\n",
      "Baseline:\n",
      "Right guess 18 from 244\n",
      "Accuracy:0.07377049180327869\n",
      "-----\n"
     ]
    },
    {
     "name": "stderr",
     "output_type": "stream",
     "text": [
      "/home/asukhochev/anaconda3/envs/dmpython/lib/python3.6/site-packages/sklearn/model_selection/_split.py:597: Warning: The least populated class in y has only 1 members, which is too few. The minimum number of members in any class cannot be less than n_splits=3.\n",
      "  % (min_groups, self.n_splits)), Warning)\n"
     ]
    },
    {
     "name": "stdout",
     "output_type": "stream",
     "text": [
      "CV parameters:  {'clustering__n_clusters': 1087, 'pca__n_components': 200}\n",
      "Classifier:\n",
      "Right guess 4 from 222\n",
      "Accuracy:0.018018018018018018\n",
      "Baseline:\n",
      "Right guess 12 from 222\n",
      "Accuracy:0.05405405405405406\n",
      "-----\n"
     ]
    },
    {
     "name": "stderr",
     "output_type": "stream",
     "text": [
      "/home/asukhochev/anaconda3/envs/dmpython/lib/python3.6/site-packages/sklearn/model_selection/_split.py:597: Warning: The least populated class in y has only 2 members, which is too few. The minimum number of members in any class cannot be less than n_splits=3.\n",
      "  % (min_groups, self.n_splits)), Warning)\n"
     ]
    },
    {
     "name": "stdout",
     "output_type": "stream",
     "text": [
      "CV parameters:  {'clustering__n_clusters': 725, 'pca__n_components': 200}\n",
      "Classifier:\n",
      "Right guess 1 from 210\n",
      "Accuracy:0.004761904761904762\n",
      "Baseline:\n",
      "Right guess 18 from 210\n",
      "Accuracy:0.08571428571428572\n",
      "-----\n"
     ]
    },
    {
     "name": "stderr",
     "output_type": "stream",
     "text": [
      "/home/asukhochev/anaconda3/envs/dmpython/lib/python3.6/site-packages/sklearn/model_selection/_split.py:597: Warning: The least populated class in y has only 1 members, which is too few. The minimum number of members in any class cannot be less than n_splits=3.\n",
      "  % (min_groups, self.n_splits)), Warning)\n"
     ]
    },
    {
     "name": "stdout",
     "output_type": "stream",
     "text": [
      "CV parameters:  {'clustering__n_clusters': 1087, 'pca__n_components': 200}\n",
      "Classifier:\n",
      "Right guess 2 from 227\n",
      "Accuracy:0.00881057268722467\n",
      "Baseline:\n",
      "Right guess 19 from 227\n",
      "Accuracy:0.08370044052863436\n",
      "-----\n",
      "10\n",
      "10\n"
     ]
    }
   ],
   "source": [
    "res_probs = []\n",
    "res_real = []\n",
    "res_jiras = []\n",
    "res_classes = []\n",
    "for i in range(SPLIT_NUM):\n",
    "    test_X = cur_X[split_indices[i], :]\n",
    "    test_Y = cur_Y[split_indices[i]]\n",
    "    test_jiras = cur_jiras[split_indices[i]]\n",
    "    \n",
    "    other_index = reduce(lambda x, y: x + y, [split_indices[j] for j in range(SPLIT_NUM) if j != i])\n",
    "    \n",
    "    train_X = cur_X[other_index, :]\n",
    "    train_Y = cur_Y[other_index]\n",
    "    \n",
    "    sub_sup_df = sup_df[~sup_df[\"JiraID\"].isin(test_jiras)]\n",
    "    sub_sup_X, sub_sup_Y, _ = maker_XY(sub_sup_df, developer_feature_lists)\n",
    "    \n",
    "    train_joined_X = np.concatenate((train_X, sub_sup_X), axis=0)\n",
    "    train_joined_Y = np.concatenate((train_Y, sub_sup_Y), axis=0)\n",
    "    \n",
    "    pipeline = Pipeline([(\"pca\", PCA()), (\"clustering\", ClusteringClassifier())])\n",
    "    \n",
    "    cv = GridSearchCV(pipeline, param_grid=GRID_SEARCH_PARAMETERS, n_jobs=8, \n",
    "                      scoring=cut_log_loss_scorer())\n",
    "    \n",
    "    cv.fit(train_joined_X, train_joined_Y)\n",
    "    \n",
    "    print(\"CV parameters: \", cv.best_params_)\n",
    "\n",
    "    baseline = BaseLineClassifier()\n",
    "    baseline.fit(train_joined_Y)\n",
    "    \n",
    "    res_probs.append(cv.predict_proba(test_X))\n",
    "    res_real.append(test_Y)\n",
    "    res_jiras.append(test_jiras)\n",
    "    res_classes.append(cv.classes_)\n",
    "    \n",
    "    print(\"Classifier:\")\n",
    "    test_classification(test_X, test_Y, cv, TOP)\n",
    "    \n",
    "    print(\"Baseline:\")\n",
    "    test_classification(test_X, test_Y, baseline, TOP)\n",
    "    \n",
    "    print(\"-----\")\n",
    "\n",
    "print(len(res_probs))\n",
    "print(len(res_jiras))"
   ]
  },
  {
   "cell_type": "code",
   "execution_count": 15,
   "metadata": {},
   "outputs": [
    {
     "name": "stdout",
     "output_type": "stream",
     "text": [
      "2281\n",
      "335\n",
      "(2281, 335)\n"
     ]
    }
   ],
   "source": [
    "fin_res_jiras, fin_res_classes, fin_res = prepare_matrix(res_probs, res_jiras, res_classes)\n",
    "print(len(fin_res_jiras))\n",
    "print(len(fin_res_classes))\n",
    "print(fin_res.shape)"
   ]
  },
  {
   "cell_type": "code",
   "execution_count": 16,
   "metadata": {
    "collapsed": true
   },
   "outputs": [],
   "source": [
    "data_pickle(\"data/res8/clustering/fin_res_jiras1.pickle\", fin_res_jiras)\n",
    "data_pickle(\"data/res8/clustering/fin_res_classes1.pickle\", fin_res_classes)\n",
    "data_pickle(\"data/res8/clustering/fin_res1.pickle\", fin_res)"
   ]
  },
  {
   "cell_type": "code",
   "execution_count": 17,
   "metadata": {
    "collapsed": true
   },
   "outputs": [],
   "source": [
    "fin_res_real = reduce(lambda x, y: x + y, [r_r.tolist() for r_r in res_real])"
   ]
  },
  {
   "cell_type": "code",
   "execution_count": 18,
   "metadata": {
    "collapsed": true
   },
   "outputs": [],
   "source": [
    "data_pickle(\"data/res8/clustering/fin_res_real1.pickle\", fin_res_real)"
   ]
  },
  {
   "cell_type": "code",
   "execution_count": 19,
   "metadata": {
    "collapsed": true
   },
   "outputs": [],
   "source": [
    "fin_res_df = pandas.DataFrame.from_records(data=fin_res, index=fin_res_jiras, columns=fin_res_classes)"
   ]
  },
  {
   "cell_type": "code",
   "execution_count": 20,
   "metadata": {
    "collapsed": true
   },
   "outputs": [],
   "source": [
    "fin_res_df.to_csv(\"data/res8/clustering/fin_res_df1.csv\")"
   ]
  },
  {
   "cell_type": "code",
   "execution_count": null,
   "metadata": {
    "collapsed": true
   },
   "outputs": [],
   "source": []
  }
 ],
 "metadata": {
  "kernelspec": {
   "display_name": "Python 3",
   "language": "python",
   "name": "python3"
  },
  "language_info": {
   "codemirror_mode": {
    "name": "ipython",
    "version": 3
   },
   "file_extension": ".py",
   "mimetype": "text/x-python",
   "name": "python",
   "nbconvert_exporter": "python",
   "pygments_lexer": "ipython3",
   "version": "3.6.2"
  }
 },
 "nbformat": 4,
 "nbformat_minor": 2
}
