{
 "cells": [
  {
   "cell_type": "code",
   "execution_count": 1,
   "metadata": {
    "collapsed": true
   },
   "outputs": [],
   "source": [
    "import pickle\n",
    "import pandas\n",
    "import random\n",
    "import math\n",
    "import numpy as np\n",
    "\n",
    "\n",
    "from functools import reduce\n",
    "from sklearn.neighbors import KNeighborsClassifier\n",
    "from sklearn.decomposition import PCA\n",
    "from collections import Counter\n",
    "from sklearn.pipeline import Pipeline\n",
    "from sklearn.model_selection import GridSearchCV\n",
    "from sklearn.preprocessing import MinMaxScaler"
   ]
  },
  {
   "cell_type": "code",
   "execution_count": 2,
   "metadata": {},
   "outputs": [],
   "source": [
    "def data_unpickle(path):\n",
    "    with open(path, \"rb\") as reader:\n",
    "        feature_data = pickle.load(reader)\n",
    "    return feature_data\n",
    "\n",
    "def data_pickle(path, data):\n",
    "    with open(path, \"wb\") as writer:\n",
    "        pickle.dump(data, writer)\n",
    "\n",
    "class Maker_XY():\n",
    "    def __init__(self):\n",
    "        self.scaler = None\n",
    "    \n",
    "    def __call__(self, working_df, feature_lists):\n",
    "        Y = working_df[\"BUNumber\"].tolist()\n",
    "        jiras = working_df[\"JiraID\"].tolist()\n",
    "        X = [feature_lists[str(jira)] for jira in jiras]\n",
    "        if self.scaler is None:\n",
    "            self.scaler = MinMaxScaler()\n",
    "            X = self.scaler.fit_transform(X)\n",
    "        else:\n",
    "            self.scaler.partial_fit(X)\n",
    "            self.scaler.transform(X)\n",
    "        return np.array(X), np.array(Y), np.array(jiras)\n",
    "\n",
    "def add_role(X, working_df):\n",
    "    roles = working_df[\"Role\"].tolist()\n",
    "    unique_roles = list(set(roles))\n",
    "    num_roles = np.array([unique_roles.index(role) for role in roles])\n",
    "    return np.concatenate((X, num_roles.reshape(-1, 1)), axis=1)\n",
    "\n",
    "def test_classification(X_test, Y_test, clf, threshold):\n",
    "    right_guess = 0\n",
    "    res_str = \"\"\n",
    "    for i in range(X_test.shape[0]):\n",
    "        prediction = clf.predict_proba(X_test[i, :].reshape(1, -1))[0]\n",
    "        pred_class = sorted(zip(clf.classes_, prediction), key=lambda item: item[1], reverse=True)\n",
    "        if Y_test[i] in [item[0] for item in pred_class[:threshold]]:\n",
    "            right_guess += 1\n",
    "        res_str += \"Pred_class:{}\\nReal class:{}\\n\".format(pred_class[:threshold], Y_test[i])\n",
    "    print(\"Right guess {} from {}\".format(right_guess, X_test.shape[0]))\n",
    "    print(\"Accuracy:{}\".format(right_guess/X_test.shape[0]))\n",
    "    \n",
    "class cut_log_loss_scorer:\n",
    "    def __call__(self, estimator, X, y):\n",
    "        loss = 0\n",
    "        predictions = estimator.predict_proba(X)\n",
    "        pred_class = dict(zip(estimator.classes_, range(predictions.shape[1])))\n",
    "        for i in range(X.shape[0]):\n",
    "            if y[i] in pred_class:\n",
    "                p = predictions[i, pred_class[y[i]]]\n",
    "            else:\n",
    "                p = 0\n",
    "            loss = math.log(p + 0.0001)\n",
    "        return loss/X.shape[0]\n",
    "    \n",
    "def get_split_indices(arr, n_splits):\n",
    "    split_indices = [[] for j in range(n_splits)]\n",
    "    for i in range(arr.shape[0]):\n",
    "        r = random.randint(0, n_splits - 1)\n",
    "        split_indices[r].append(i)\n",
    "    return split_indices\n",
    "    \n",
    "    \n",
    "class WeightedRoleMetric:\n",
    "    def __init__(self, w, length):\n",
    "        self.w = w\n",
    "        self.null = np.array([0 for i in range(length)])\n",
    "    \n",
    "    def __call__(self, a, b):\n",
    "        c = a[:-1] - b[:-1]\n",
    "        if not np.array_equal(a[-1], b[-1]):\n",
    "            c *= self.w\n",
    "        return minkowski(c, self.null, 2)\n",
    "    \n",
    "    \n",
    "class BaseLineClassifier:\n",
    "    def fit(self, Y_train):\n",
    "        classes_probs = sorted([(item[0], item[1]/Y_train.shape[0]) for item in Counter(Y_train).items()], \n",
    "                                 key = lambda item: item[1], reverse=True)\n",
    "        self.classes_ = [item[0] for item in classes_probs]\n",
    "        self.probs = [[item[1] for item in classes_probs]]\n",
    "        return self\n",
    "    \n",
    "    def predict_proba(self, x):\n",
    "        return self.probs\n",
    "    \n",
    "# checked    \n",
    "def prepare_matrix(probs, jiras, classes):\n",
    "    res_jiras = reduce(lambda x, y: x + y, [j.tolist() for j in jiras])\n",
    "    res_classes = sorted(list(set(reduce(lambda x, y: x + y, [c.tolist() for c in classes]))))\n",
    "    res = []\n",
    "    for i in range(len(probs)):\n",
    "        for j in range(probs[i].shape[0]):\n",
    "            loc_res = []\n",
    "            for k in range(len(res_classes)):\n",
    "                if res_classes[k] in classes[i].tolist():\n",
    "                    loc_res.append(probs[i][j, classes[i].tolist().index(res_classes[k])])\n",
    "                else:\n",
    "                    loc_res.append(-1)\n",
    "            res.append(loc_res)\n",
    "    return res_jiras, res_classes, np.array(res)"
   ]
  },
  {
   "cell_type": "code",
   "execution_count": 3,
   "metadata": {},
   "outputs": [
    {
     "data": {
      "text/plain": [
       "(307682, 10)"
      ]
     },
     "execution_count": 3,
     "metadata": {},
     "output_type": "execute_result"
    }
   ],
   "source": [
    "df = pandas.read_csv(\"data/full_JiraID_BUNumber.csv\")\n",
    "df.shape"
   ]
  },
  {
   "cell_type": "code",
   "execution_count": 4,
   "metadata": {
    "collapsed": true
   },
   "outputs": [],
   "source": [
    "CUR_ROLE = \"Developer\"\n",
    "SPLIT_NUM = 10\n",
    "N_COMPONENTS = 500\n",
    "N_NEIGHBORS = 10\n",
    "TOP = 5\n",
    "GRID_SEARCH_PARAMETERS = {\"pca__n_components\": [100, 200],\n",
    "                          \"knn__n_neighbors\": [10, 20, 30], \n",
    "                          \"knn__weights\": [\"distance\"], \n",
    "                          \"knn__metric\": [\"minkowski\", \"manhattan\", \"chebyshev\"],\n",
    "                          \"knn__p\": [1, 2]}"
   ]
  },
  {
   "cell_type": "code",
   "execution_count": 5,
   "metadata": {
    "collapsed": true
   },
   "outputs": [],
   "source": [
    "developer_feature_lists = data_unpickle(\"data/res8/developers_feature_lists.pickle\")"
   ]
  },
  {
   "cell_type": "code",
   "execution_count": 6,
   "metadata": {},
   "outputs": [
    {
     "data": {
      "text/plain": [
       "(72171, 10)"
      ]
     },
     "execution_count": 6,
     "metadata": {},
     "output_type": "execute_result"
    }
   ],
   "source": [
    "df = df[df[\"JiraID\"].isin(developer_feature_lists.keys())]\n",
    "df.shape"
   ]
  },
  {
   "cell_type": "code",
   "execution_count": 7,
   "metadata": {},
   "outputs": [
    {
     "name": "stderr",
     "output_type": "stream",
     "text": [
      "/home/asukhochev/anaconda3/envs/dmpython/lib/python3.6/site-packages/ipykernel_launcher.py:1: UserWarning: Boolean Series key will be reindexed to match DataFrame index.\n",
      "  \"\"\"Entry point for launching an IPython kernel.\n"
     ]
    },
    {
     "data": {
      "text/plain": [
       "(2281, 3)"
      ]
     },
     "execution_count": 7,
     "metadata": {},
     "output_type": "execute_result"
    }
   ],
   "source": [
    "cur_df = df[df[\"Timeline\"] == \"2017-07-01 00:00:00\"][df[\"Role\"] == CUR_ROLE][[\"JiraID\", \"Role\", \"BUNumber\"]].drop_duplicates()\n",
    "cur_df.shape"
   ]
  },
  {
   "cell_type": "code",
   "execution_count": 8,
   "metadata": {},
   "outputs": [
    {
     "name": "stderr",
     "output_type": "stream",
     "text": [
      "/home/asukhochev/anaconda3/envs/dmpython/lib/python3.6/site-packages/ipykernel_launcher.py:1: UserWarning: Boolean Series key will be reindexed to match DataFrame index.\n",
      "  \"\"\"Entry point for launching an IPython kernel.\n"
     ]
    },
    {
     "data": {
      "text/plain": [
       "(2896, 3)"
      ]
     },
     "execution_count": 8,
     "metadata": {},
     "output_type": "execute_result"
    }
   ],
   "source": [
    "sup_df = df[df[\"Role\"] == CUR_ROLE][df[\"BUNumber\"].isin(set(cur_df[\"BUNumber\"]))][[\"JiraID\", \"Role\", \"BUNumber\"]].drop_duplicates()\n",
    "sup_df.shape"
   ]
  },
  {
   "cell_type": "code",
   "execution_count": 9,
   "metadata": {
    "collapsed": true
   },
   "outputs": [],
   "source": [
    "split_indices = get_split_indices(cur_df, SPLIT_NUM)"
   ]
  },
  {
   "cell_type": "code",
   "execution_count": 10,
   "metadata": {
    "collapsed": true
   },
   "outputs": [],
   "source": [
    "maker_XY = Maker_XY()"
   ]
  },
  {
   "cell_type": "code",
   "execution_count": 11,
   "metadata": {},
   "outputs": [
    {
     "name": "stdout",
     "output_type": "stream",
     "text": [
      "(2281, 1645)\n",
      "(2281,)\n",
      "(2281,)\n"
     ]
    }
   ],
   "source": [
    "cur_X, cur_Y, cur_jiras = maker_XY(cur_df, developer_feature_lists)\n",
    "print(cur_X.shape)\n",
    "print(cur_Y.shape)\n",
    "print(cur_jiras.shape)"
   ]
  },
  {
   "cell_type": "code",
   "execution_count": 12,
   "metadata": {
    "scrolled": false
   },
   "outputs": [
    {
     "name": "stderr",
     "output_type": "stream",
     "text": [
      "/home/asukhochev/anaconda3/envs/dmpython/lib/python3.6/site-packages/sklearn/model_selection/_split.py:597: Warning: The least populated class in y has only 1 members, which is too few. The minimum number of members in any class cannot be less than n_splits=3.\n",
      "  % (min_groups, self.n_splits)), Warning)\n"
     ]
    },
    {
     "name": "stdout",
     "output_type": "stream",
     "text": [
      "CV parameters:  {'knn__metric': 'manhattan', 'knn__n_neighbors': 30, 'knn__p': 1, 'knn__weights': 'distance', 'pca__n_components': 200}\n",
      "Classifier:\n",
      "Right guess 25 from 206\n",
      "Accuracy:0.12135922330097088\n",
      "Baseline:\n",
      "Right guess 11 from 206\n",
      "Accuracy:0.05339805825242718\n",
      "-----\n"
     ]
    },
    {
     "name": "stderr",
     "output_type": "stream",
     "text": [
      "/home/asukhochev/anaconda3/envs/dmpython/lib/python3.6/site-packages/sklearn/model_selection/_split.py:597: Warning: The least populated class in y has only 1 members, which is too few. The minimum number of members in any class cannot be less than n_splits=3.\n",
      "  % (min_groups, self.n_splits)), Warning)\n"
     ]
    },
    {
     "name": "stdout",
     "output_type": "stream",
     "text": [
      "CV parameters:  {'knn__metric': 'manhattan', 'knn__n_neighbors': 10, 'knn__p': 1, 'knn__weights': 'distance', 'pca__n_components': 200}\n",
      "Classifier:\n",
      "Right guess 16 from 232\n",
      "Accuracy:0.06896551724137931\n",
      "Baseline:\n",
      "Right guess 16 from 232\n",
      "Accuracy:0.06896551724137931\n",
      "-----\n"
     ]
    },
    {
     "name": "stderr",
     "output_type": "stream",
     "text": [
      "/home/asukhochev/anaconda3/envs/dmpython/lib/python3.6/site-packages/sklearn/model_selection/_split.py:597: Warning: The least populated class in y has only 1 members, which is too few. The minimum number of members in any class cannot be less than n_splits=3.\n",
      "  % (min_groups, self.n_splits)), Warning)\n"
     ]
    },
    {
     "name": "stdout",
     "output_type": "stream",
     "text": [
      "CV parameters:  {'knn__metric': 'manhattan', 'knn__n_neighbors': 20, 'knn__p': 2, 'knn__weights': 'distance', 'pca__n_components': 200}\n",
      "Classifier:\n",
      "Right guess 31 from 231\n",
      "Accuracy:0.1341991341991342\n",
      "Baseline:\n",
      "Right guess 16 from 231\n",
      "Accuracy:0.06926406926406926\n",
      "-----\n"
     ]
    },
    {
     "name": "stderr",
     "output_type": "stream",
     "text": [
      "/home/asukhochev/anaconda3/envs/dmpython/lib/python3.6/site-packages/sklearn/model_selection/_split.py:597: Warning: The least populated class in y has only 1 members, which is too few. The minimum number of members in any class cannot be less than n_splits=3.\n",
      "  % (min_groups, self.n_splits)), Warning)\n"
     ]
    },
    {
     "name": "stdout",
     "output_type": "stream",
     "text": [
      "CV parameters:  {'knn__metric': 'manhattan', 'knn__n_neighbors': 30, 'knn__p': 1, 'knn__weights': 'distance', 'pca__n_components': 200}\n",
      "Classifier:\n",
      "Right guess 28 from 237\n",
      "Accuracy:0.11814345991561181\n",
      "Baseline:\n",
      "Right guess 21 from 237\n",
      "Accuracy:0.08860759493670886\n",
      "-----\n"
     ]
    },
    {
     "name": "stderr",
     "output_type": "stream",
     "text": [
      "/home/asukhochev/anaconda3/envs/dmpython/lib/python3.6/site-packages/sklearn/model_selection/_split.py:597: Warning: The least populated class in y has only 1 members, which is too few. The minimum number of members in any class cannot be less than n_splits=3.\n",
      "  % (min_groups, self.n_splits)), Warning)\n"
     ]
    },
    {
     "name": "stdout",
     "output_type": "stream",
     "text": [
      "CV parameters:  {'knn__metric': 'manhattan', 'knn__n_neighbors': 20, 'knn__p': 2, 'knn__weights': 'distance', 'pca__n_components': 200}\n",
      "Classifier:\n",
      "Right guess 25 from 209\n",
      "Accuracy:0.11961722488038277\n",
      "Baseline:\n",
      "Right guess 17 from 209\n",
      "Accuracy:0.08133971291866028\n",
      "-----\n"
     ]
    },
    {
     "name": "stderr",
     "output_type": "stream",
     "text": [
      "/home/asukhochev/anaconda3/envs/dmpython/lib/python3.6/site-packages/sklearn/model_selection/_split.py:597: Warning: The least populated class in y has only 2 members, which is too few. The minimum number of members in any class cannot be less than n_splits=3.\n",
      "  % (min_groups, self.n_splits)), Warning)\n"
     ]
    },
    {
     "name": "stdout",
     "output_type": "stream",
     "text": [
      "CV parameters:  {'knn__metric': 'manhattan', 'knn__n_neighbors': 20, 'knn__p': 2, 'knn__weights': 'distance', 'pca__n_components': 200}\n",
      "Classifier:\n",
      "Right guess 15 from 231\n",
      "Accuracy:0.06493506493506493\n",
      "Baseline:\n",
      "Right guess 19 from 231\n",
      "Accuracy:0.08225108225108226\n",
      "-----\n"
     ]
    },
    {
     "name": "stderr",
     "output_type": "stream",
     "text": [
      "/home/asukhochev/anaconda3/envs/dmpython/lib/python3.6/site-packages/sklearn/model_selection/_split.py:597: Warning: The least populated class in y has only 1 members, which is too few. The minimum number of members in any class cannot be less than n_splits=3.\n",
      "  % (min_groups, self.n_splits)), Warning)\n"
     ]
    },
    {
     "name": "stdout",
     "output_type": "stream",
     "text": [
      "CV parameters:  {'knn__metric': 'manhattan', 'knn__n_neighbors': 20, 'knn__p': 1, 'knn__weights': 'distance', 'pca__n_components': 200}\n",
      "Classifier:\n",
      "Right guess 27 from 253\n",
      "Accuracy:0.1067193675889328\n",
      "Baseline:\n",
      "Right guess 21 from 253\n",
      "Accuracy:0.08300395256916997\n",
      "-----\n"
     ]
    },
    {
     "name": "stderr",
     "output_type": "stream",
     "text": [
      "/home/asukhochev/anaconda3/envs/dmpython/lib/python3.6/site-packages/sklearn/model_selection/_split.py:597: Warning: The least populated class in y has only 1 members, which is too few. The minimum number of members in any class cannot be less than n_splits=3.\n",
      "  % (min_groups, self.n_splits)), Warning)\n"
     ]
    },
    {
     "name": "stdout",
     "output_type": "stream",
     "text": [
      "CV parameters:  {'knn__metric': 'minkowski', 'knn__n_neighbors': 20, 'knn__p': 1, 'knn__weights': 'distance', 'pca__n_components': 200}\n",
      "Classifier:\n",
      "Right guess 28 from 221\n",
      "Accuracy:0.12669683257918551\n",
      "Baseline:\n",
      "Right guess 18 from 221\n",
      "Accuracy:0.08144796380090498\n",
      "-----\n"
     ]
    },
    {
     "name": "stderr",
     "output_type": "stream",
     "text": [
      "/home/asukhochev/anaconda3/envs/dmpython/lib/python3.6/site-packages/sklearn/model_selection/_split.py:597: Warning: The least populated class in y has only 1 members, which is too few. The minimum number of members in any class cannot be less than n_splits=3.\n",
      "  % (min_groups, self.n_splits)), Warning)\n"
     ]
    },
    {
     "name": "stdout",
     "output_type": "stream",
     "text": [
      "CV parameters:  {'knn__metric': 'manhattan', 'knn__n_neighbors': 30, 'knn__p': 1, 'knn__weights': 'distance', 'pca__n_components': 200}\n",
      "Classifier:\n",
      "Right guess 27 from 226\n",
      "Accuracy:0.11946902654867257\n",
      "Baseline:\n",
      "Right guess 14 from 226\n",
      "Accuracy:0.061946902654867256\n",
      "-----\n"
     ]
    },
    {
     "name": "stderr",
     "output_type": "stream",
     "text": [
      "/home/asukhochev/anaconda3/envs/dmpython/lib/python3.6/site-packages/sklearn/model_selection/_split.py:597: Warning: The least populated class in y has only 1 members, which is too few. The minimum number of members in any class cannot be less than n_splits=3.\n",
      "  % (min_groups, self.n_splits)), Warning)\n"
     ]
    },
    {
     "name": "stdout",
     "output_type": "stream",
     "text": [
      "CV parameters:  {'knn__metric': 'chebyshev', 'knn__n_neighbors': 20, 'knn__p': 1, 'knn__weights': 'distance', 'pca__n_components': 200}\n",
      "Classifier:\n",
      "Right guess 24 from 235\n",
      "Accuracy:0.10212765957446808\n",
      "Baseline:\n",
      "Right guess 9 from 235\n",
      "Accuracy:0.03829787234042553\n",
      "-----\n",
      "10\n",
      "10\n"
     ]
    }
   ],
   "source": [
    "res_probs = []\n",
    "res_real = []\n",
    "res_jiras = []\n",
    "res_classes = []\n",
    "for i in range(SPLIT_NUM):\n",
    "    test_X = cur_X[split_indices[i], :]\n",
    "    test_Y = cur_Y[split_indices[i]]\n",
    "    test_jiras = cur_jiras[split_indices[i]]\n",
    "    \n",
    "    other_index = reduce(lambda x, y: x + y, [split_indices[j] for j in range(SPLIT_NUM) if j != i])\n",
    "    \n",
    "    train_X = cur_X[other_index, :]\n",
    "    train_Y = cur_Y[other_index]\n",
    "    \n",
    "    sub_sup_df = sup_df[~sup_df[\"JiraID\"].isin(test_jiras)]\n",
    "    sub_sup_X, sub_sup_Y, _ = maker_XY(sub_sup_df, developer_feature_lists)\n",
    "    \n",
    "    train_joined_X = np.concatenate((train_X, sub_sup_X), axis=0)\n",
    "    train_joined_Y = np.concatenate((train_Y, sub_sup_Y), axis=0)\n",
    "    \n",
    "    pipeline = Pipeline([(\"pca\", PCA()), (\"knn\", KNeighborsClassifier())])\n",
    "    \n",
    "    cv = GridSearchCV(pipeline, param_grid=GRID_SEARCH_PARAMETERS, \n",
    "                      scoring=cut_log_loss_scorer(), n_jobs=8)\n",
    "    \n",
    "    cv.fit(train_joined_X, train_joined_Y)\n",
    "    \n",
    "    print(\"CV parameters: \", cv.best_params_)\n",
    "\n",
    "    baseline = BaseLineClassifier()\n",
    "    baseline.fit(train_joined_Y)\n",
    "    \n",
    "    res_probs.append(cv.predict_proba(test_X))\n",
    "    res_real.append(test_Y)\n",
    "    res_jiras.append(test_jiras)\n",
    "    res_classes.append(cv.classes_)\n",
    "    \n",
    "    print(\"Classifier:\")\n",
    "    test_classification(test_X, test_Y, cv, TOP)\n",
    "    \n",
    "    print(\"Baseline:\")\n",
    "    test_classification(test_X, test_Y, baseline, TOP)\n",
    "    \n",
    "    print(\"-----\")\n",
    "\n",
    "print(len(res_probs))\n",
    "print(len(res_jiras))"
   ]
  },
  {
   "cell_type": "code",
   "execution_count": 21,
   "metadata": {},
   "outputs": [
    {
     "name": "stdout",
     "output_type": "stream",
     "text": [
      "2281\n",
      "335\n",
      "(2281, 335)\n"
     ]
    }
   ],
   "source": [
    "fin_res_jiras, fin_res_classes, fin_res = prepare_matrix(res_probs, res_jiras, res_classes)\n",
    "print(len(fin_res_jiras))\n",
    "print(len(fin_res_classes))\n",
    "print(fin_res.shape)"
   ]
  },
  {
   "cell_type": "code",
   "execution_count": 22,
   "metadata": {
    "collapsed": true
   },
   "outputs": [],
   "source": [
    "data_pickle(\"data/res8/knn_pca/fin_res_jiras1.pickle\", fin_res_jiras)\n",
    "data_pickle(\"data/res8/knn_pca/fin_res_classes1.pickle\", fin_res_classes)\n",
    "data_pickle(\"data/res8/knn_pca/fin_res1.pickle\", fin_res)"
   ]
  },
  {
   "cell_type": "code",
   "execution_count": 23,
   "metadata": {
    "collapsed": true
   },
   "outputs": [],
   "source": [
    "fin_res_real = reduce(lambda x, y: x + y, [r_r.tolist() for r_r in res_real])"
   ]
  },
  {
   "cell_type": "code",
   "execution_count": 24,
   "metadata": {},
   "outputs": [
    {
     "data": {
      "text/plain": [
       "2281"
      ]
     },
     "execution_count": 24,
     "metadata": {},
     "output_type": "execute_result"
    }
   ],
   "source": [
    "len(fin_res_real)"
   ]
  },
  {
   "cell_type": "code",
   "execution_count": 25,
   "metadata": {
    "collapsed": true
   },
   "outputs": [],
   "source": [
    "data_pickle(\"data/res8/knn_pca/fin_res_real1.pickle\", fin_res_real)"
   ]
  },
  {
   "cell_type": "code",
   "execution_count": 26,
   "metadata": {
    "collapsed": true
   },
   "outputs": [],
   "source": [
    "fin_res_df = pandas.DataFrame.from_records(data=fin_res, index=fin_res_jiras, columns=fin_res_classes)"
   ]
  },
  {
   "cell_type": "code",
   "execution_count": 27,
   "metadata": {
    "collapsed": true
   },
   "outputs": [],
   "source": [
    "fin_res_df.to_csv(\"data/res8/knn_pca/fin_res_df1.csv\")"
   ]
  },
  {
   "cell_type": "code",
   "execution_count": 28,
   "metadata": {},
   "outputs": [
    {
     "data": {
      "text/plain": [
       "(2281, 335)"
      ]
     },
     "execution_count": 28,
     "metadata": {},
     "output_type": "execute_result"
    }
   ],
   "source": [
    "fin_res_df.shape"
   ]
  },
  {
   "cell_type": "code",
   "execution_count": null,
   "metadata": {},
   "outputs": [],
   "source": [
    "# checking\n",
    "tmp_res_probs = [\n",
    "                    np.array([\n",
    "                        [1, 2, 3],\n",
    "                        [4, 5, 6],\n",
    "                        [7, 8, 9]\n",
    "                    ]),\n",
    "                    np.array([\n",
    "                        [10, 11, 12, 13],\n",
    "                        [14, 15, 16, 17],\n",
    "                        [18, 19, 20, 21]\n",
    "                    ]),\n",
    "                    np.array([\n",
    "                        [19, 20, 21],\n",
    "                        [22, 23, 24]\n",
    "                    ])\n",
    "                ]\n",
    "tmp_res_jiras = [\n",
    "                    np.array([1, 2, 3]),\n",
    "                    np.array([4, 5, 6]),\n",
    "                    np.array([7, 8])\n",
    "                ]\n",
    "tmp_res_classes = [\n",
    "                     np.array([101, 103, 102]),\n",
    "                     np.array([103, 105, 101, 106]),\n",
    "                     np.array([100, 101, 102])\n",
    "                 ]\n",
    "fin_res_jiras, fin_res_classes, fin_res = prepare_matrix(tmp_res_probs, tmp_res_jiras, tmp_res_classes)\n",
    "print(fin_res_jiras)\n",
    "print(fin_res_classes)\n",
    "print(fin_res)"
   ]
  },
  {
   "cell_type": "code",
   "execution_count": null,
   "metadata": {},
   "outputs": [],
   "source": [
    "len(fin_res_classes)"
   ]
  },
  {
   "cell_type": "code",
   "execution_count": null,
   "metadata": {
    "collapsed": true
   },
   "outputs": [],
   "source": []
  }
 ],
 "metadata": {
  "kernelspec": {
   "display_name": "Python 3",
   "language": "python",
   "name": "python3"
  },
  "language_info": {
   "codemirror_mode": {
    "name": "ipython",
    "version": 3
   },
   "file_extension": ".py",
   "mimetype": "text/x-python",
   "name": "python",
   "nbconvert_exporter": "python",
   "pygments_lexer": "ipython3",
   "version": "3.6.2"
  }
 },
 "nbformat": 4,
 "nbformat_minor": 2
}
