{
 "cells": [
  {
   "cell_type": "code",
   "execution_count": 1,
   "metadata": {
    "collapsed": true
   },
   "outputs": [],
   "source": [
    "import json"
   ]
  },
  {
   "cell_type": "code",
   "execution_count": 21,
   "metadata": {
    "collapsed": false
   },
   "outputs": [],
   "source": [
    "with open(\"res_skill_dictionary\") as reader:\n",
    "    #print(reader.readline()[96360:96370])\n",
    "    res_skill_dictionary = json.loads(reader.readline())"
   ]
  },
  {
   "cell_type": "code",
   "execution_count": 22,
   "metadata": {
    "collapsed": false
   },
   "outputs": [
    {
     "data": {
      "text/plain": [
       "dict_keys(['C--', 'C-- Nombas', 'C++', 'C++/CLI', 'concurrency', 'Caml', 'Cat', 'Ceylon', 'Chapel', 'CHILL', 'Cilk', 'Clarion', 'Clean', 'Clipper', 'CLIPS', 'Clojure', 'Cobra', 'CODASYL', 'CoffeeScript', 'ColdFusion', 'Common Lisp', 'Concurrent ML', 'Converge', 'CPL', 'Crystal', 'Curl', 'Curry', 'Cyclone', 'Cython', 'Cω', 'C-Store', 'C.a.R.', 'C++ Builder', 'CA Antivirus', 'Cabos', 'CACAO', 'Caché', 'Cacti', 'Cadwork', 'CAE Fidesys', 'Caffe', 'Cairo', 'Caixa Magica', 'CakePHP', 'Cakewalk Sonar', 'Calculate Linux', 'Calculator', 'CalculiX', 'Calibre', 'Call Office', 'Calligra Flow', 'Calligra Suite', 'CallWeaver', 'Calmira', 'CAM Express', 'Camfrog', 'Camino', 'CamStudio', 'CAOS Linux', 'CarPlay', 'Casewise Corporate Modeler Suite', 'Catalyst', 'CATIA', 'Ccache', 'CCEnhancer', 'CCleaner', 'CDBurnerXP', 'CDC KRONOS', 'CDC NOS', 'CDE', 'CDex', 'Cdparanoia', 'Cdrkit', 'Cdrtfe', 'Cdrtools', 'Cedega', 'Ceedo', 'Celestia', 'CenterIM', 'CentOS', 'Cerebro', 'CERN httpd', 'CFosSpeed', 'CGIIRC', 'ChatON', 'CHDK', 'Check', 'CheckInstall', 'Cheese', 'Chef', 'ChemDraw', 'Chemistry Development Kit', 'Cherokee HTTP Server', 'CherryPlayer', 'CherryPy', 'Chess Apple', 'Chez Scheme', 'ChibiOS/RT', 'CHKDSK', 'Chmod', 'Chntpw', 'Choqok', 'ChorusOS', 'Chrome OS', 'Chromium', 'Chromium OS', 'Chyrp', 'Cinder', 'CineCure', 'Cinelerra', 'Cinema 4D', 'Cinnamon', 'Circumflex Scala', 'Cisco IOS', 'Citadel groupware', 'Citavi', 'CityEngine', 'CiviCRM', 'Cjdns', 'CKeditor', 'ClamAV', 'ClamWin', 'Clang', 'ClanLib', 'Classic Shell', 'Claws Mail', 'CLEditor', 'Clementine', 'CLion', 'CLISP', 'CloneCD', 'CloneDVD', 'Clonezilla', 'ClosedBSD', 'Cloud Commander', 'Cloud9', 'Cloudike', 'CLPython', 'Clustal', 'Clutter', 'CMake', 'Cmdbuild', 'CMS Made Simple', 'CMSimple', 'CMU Common Lisp', 'Cmus', 'Coast', 'Coco/R', 'Cocos2d', 'CodeBlocks', 'CodeIgniter', 'CodeLite', 'Codelobster', 'CodeRush', 'CoDeSys', 'CodeView', 'CodeWarrior', 'Cognitive Forms', 'Cognitive Passport', 'CoLinux', 'COLLADA', 'Colloquy', 'Colorer', 'ColorSync', 'Combined Community Codec Pack', 'COMDI', 'COMMAND.COM', 'Common UNIX Printing System', 'CommuniGate Pro', 'Comodo Antivirus', 'Comodo BackUp', 'COMODO Cleaning Essentials', 'Comodo Dragon', 'Comodo Firewall', 'Comodo Internet Security', 'Comodo SafeSurf', 'Comodo Time Machine', 'Comodo Unite', 'CompanyMedia', 'CompCert', 'CompHEP', 'Compiere', 'Compiz', 'Compiz Fusion', 'Composer', 'ConceptDraw Mindmap', 'ConceptDraw Office', 'ConceptDraw Pro', 'ConceptDraw Project', 'Concierge OSGi', 'Concrete5', 'ConEmu', 'Confluence', 'Conkeror', 'Conky', 'ConnochaetOS', 'Construct 2', 'Construct Classic', 'Contao', 'Contiki', 'CoolNovo', 'CoolProxy', 'CoolReader', 'Copland', 'Coppermine Photo Gallery', 'CopyTo', 'Coq', 'Coral Content Distribution Network', 'Cordova', 'Core Animation', 'CoreAVC', 'Coreboot', 'Corel Painter', 'Corel Ventura', 'Corel VideoStudio', 'CorelDRAW', 'CoreOS', 'Corman Common Lisp', 'Corosync', 'Correlizer', 'Cosmoe', 'Cosmology@home', 'Cosmos', 'Cotonti', 'Couchbase', 'CouchDB', 'Courier Mail Server', 'Cover Flow', 'Cowsay', 'CP/M', 'CPanel', 'Cpio', 'Cppcheck', 'CProxy', 'CPU-Z', 'CPython', 'CrashPlan', 'Cray Operating System', 'Crimson Editor', 'CRIU', 'CrossOver', 'CruiseControl', 'CrunchBang Linux', 'CRUX  Linux', 'CryEngine 3 SDK', 'Crypt Unix', 'Cryptlib', 'Cryptocat', 'CRYSTAL', 'Crystal Player', 'Crystal Space', 'CrystalDiskInfo', 'Cscope', 'Csh', 'CSI-DOS', 'Csound', 'Ctags', 'CTWM', 'CUDA', 'Cumulus Linux', 'CuneiForm', 'CURL', 'CuteFTP', 'CVS', 'CwRsync', 'Cxbx', 'CyanogenMod', 'Cyberdog', 'Cydia', 'Cygwin', 'Cytoscape', 'C#', 'C'])"
      ]
     },
     "execution_count": 22,
     "metadata": {},
     "output_type": "execute_result"
    }
   ],
   "source": [
    "res_skill_dictionary[\"C\"].keys()"
   ]
  },
  {
   "cell_type": "code",
   "execution_count": null,
   "metadata": {
    "collapsed": true
   },
   "outputs": [],
   "source": []
  }
 ],
 "metadata": {
  "kernelspec": {
   "display_name": "Python 3",
   "language": "python",
   "name": "python3"
  },
  "language_info": {
   "codemirror_mode": {
    "name": "ipython",
    "version": 3
   },
   "file_extension": ".py",
   "mimetype": "text/x-python",
   "name": "python",
   "nbconvert_exporter": "python",
   "pygments_lexer": "ipython3",
   "version": "3.6.3"
  }
 },
 "nbformat": 4,
 "nbformat_minor": 2
}
