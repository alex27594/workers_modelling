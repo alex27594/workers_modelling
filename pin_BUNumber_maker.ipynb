{
 "cells": [
  {
   "cell_type": "code",
   "execution_count": null,
   "metadata": {
    "collapsed": true
   },
   "outputs": [],
   "source": [
    "import pandas\n",
    "import datetime\n",
    "import pickle\n",
    "\n",
    "from collections import Counter"
   ]
  },
  {
   "cell_type": "code",
   "execution_count": null,
   "metadata": {
    "collapsed": true
   },
   "outputs": [],
   "source": [
    "def data_unpickle(path):\n",
    "    with open(path, \"rb\") as reader:\n",
    "        feature_data = pickle.load(reader)\n",
    "    return feature_data"
   ]
  },
  {
   "cell_type": "code",
   "execution_count": null,
   "metadata": {
    "collapsed": true
   },
   "outputs": [],
   "source": [
    "jira_pin_df = pandas.read_excel(\"../PIN - JiraID link.xlsx\")"
   ]
  },
  {
   "cell_type": "code",
   "execution_count": null,
   "metadata": {},
   "outputs": [],
   "source": [
    "jira_pin_df.head()"
   ]
  },
  {
   "cell_type": "code",
   "execution_count": null,
   "metadata": {},
   "outputs": [],
   "source": [
    "jira_pin_df[\"JiraID\"] = jira_pin_df[\"JiraID\"].apply(lambda x: x[3:] if x else -1)\n",
    "jira_pin_df[\"JiraID\"][0] = \"-100\"\n",
    "jira_pin_df[\"JiraID\"] = jira_pin_df[\"JiraID\"].apply(lambda x: int(x))\n",
    "jira_pin_df.head()"
   ]
  },
  {
   "cell_type": "code",
   "execution_count": null,
   "metadata": {},
   "outputs": [],
   "source": [
    "paths = ['out_EmployeesData months 01.07.2015-28.02.2017 part1.xlsx', \n",
    "         'out_EmployeesData months 01.07.2015-28.02.2017 part1 v2.xlsx', \n",
    "         'out_EmployeesData months 01.03.2015-31.07.2017 part1 v2.xlsx']\n",
    "filtered_dfs = []\n",
    "for path in paths:\n",
    "    print(path)\n",
    "    df = pandas.read_excel(\"data/\" + path)\n",
    "    print(df.shape)\n",
    "    filtered_dfs.append(pandas.concat([df[\"PIN\"], df[\"BUNumber\"], df[\"Citizenship\"], df[\"totalIncomeNorm\"], \n",
    "                                        df[\"Degree\"], df[\"Role\"], df[\"Country\"],\n",
    "                                        df[\"City\"], df[\"Timeline\"]], axis=1))\n",
    "res_df = pandas.concat(filtered_dfs, axis=0)"
   ]
  },
  {
   "cell_type": "code",
   "execution_count": null,
   "metadata": {},
   "outputs": [],
   "source": [
    "df = pandas.merge(jira_pin_df, res_df, how=\"inner\", on=\"PIN\")\n",
    "print(df.shape)\n",
    "df.head(5)"
   ]
  },
  {
   "cell_type": "code",
   "execution_count": null,
   "metadata": {
    "collapsed": true
   },
   "outputs": [],
   "source": [
    "df.to_csv(\"data/full_JiraID_BUNumber.csv\", index=False)"
   ]
  },
  {
   "cell_type": "code",
   "execution_count": null,
   "metadata": {},
   "outputs": [],
   "source": [
    "old_df = pandas.read_csv(\"data/JiraID_BUNumber.csv\")\n",
    "print(old_df.shape)\n",
    "old_df.head(5)"
   ]
  },
  {
   "cell_type": "code",
   "execution_count": null,
   "metadata": {},
   "outputs": [],
   "source": [
    "df = pandas.read_csv(\"data/full_JiraID_BUNumber.csv\")\n",
    "print(df.shape)"
   ]
  },
  {
   "cell_type": "code",
   "execution_count": null,
   "metadata": {
    "collapsed": true
   },
   "outputs": [],
   "source": []
  }
 ],
 "metadata": {
  "kernelspec": {
   "display_name": "Python 3",
   "language": "python",
   "name": "python3"
  },
  "language_info": {
   "codemirror_mode": {
    "name": "ipython",
    "version": 3
   },
   "file_extension": ".py",
   "mimetype": "text/x-python",
   "name": "python",
   "nbconvert_exporter": "python",
   "pygments_lexer": "ipython3",
   "version": "3.6.3"
  }
 },
 "nbformat": 4,
 "nbformat_minor": 2
}
